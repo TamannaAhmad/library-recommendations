{
  "cells": [
    {
      "cell_type": "markdown",
      "metadata": {
        "colab_type": "text",
        "id": "view-in-github"
      },
      "source": [
        "<a href=\"https://colab.research.google.com/github/TamannaAhmad/library-recommendations/blob/main/hybrid_recommendations_system.ipynb\" target=\"_parent\"><img src=\"https://colab.research.google.com/assets/colab-badge.svg\" alt=\"Open In Colab\"/></a>"
      ]
    },
    {
      "cell_type": "code",
      "execution_count": 1,
      "metadata": {
        "colab": {
          "base_uri": "https://localhost:8080/"
        },
        "id": "dCSy0ixFRyHl",
        "outputId": "cadaf834-feef-4dfd-dc03-cac53894a406"
      },
      "outputs": [
        {
          "name": "stderr",
          "output_type": "stream",
          "text": [
            "[nltk_data] Downloading package wordnet to\n",
            "[nltk_data]     C:\\Users\\gryff\\AppData\\Roaming\\nltk_data...\n",
            "[nltk_data]   Package wordnet is already up-to-date!\n",
            "[nltk_data] Downloading package stopwords to\n",
            "[nltk_data]     C:\\Users\\gryff\\AppData\\Roaming\\nltk_data...\n",
            "[nltk_data]   Package stopwords is already up-to-date!\n",
            "[nltk_data] Downloading package punkt to\n",
            "[nltk_data]     C:\\Users\\gryff\\AppData\\Roaming\\nltk_data...\n",
            "[nltk_data]   Package punkt is already up-to-date!\n"
          ]
        }
      ],
      "source": [
        "import nltk\n",
        "nltk.download('wordnet')         #WordNet synsets and lemmas\n",
        "nltk.download('stopwords')       #stopwords\n",
        "nltk.download('punkt')\n",
        "from sklearn.feature_extraction.text import TfidfVectorizer\n",
        "from sklearn.metrics.pairwise import cosine_similarity\n",
        "from nltk.corpus import wordnet\n",
        "from nltk.stem import PorterStemmer\n",
        "from nltk.corpus import stopwords\n",
        "import string\n",
        "import pandas as pd"
      ]
    },
    {
      "cell_type": "code",
      "execution_count": 2,
      "metadata": {
        "id": "zfiNWBzAN4rJ"
      },
      "outputs": [],
      "source": [
        "#load data\n",
        "books = pd.read_csv('data/books.csv')  #read the books file\n",
        "courses = pd.read_csv('data/courses.csv')  #read the courses file"
      ]
    },
    {
      "cell_type": "code",
      "execution_count": 4,
      "metadata": {
        "colab": {
          "base_uri": "https://localhost:8080/",
          "height": 304
        },
        "id": "xjEvhkhGPhBc",
        "outputId": "d50df13c-5712-4bd8-f638-9766d07cf893"
      },
      "outputs": [],
      "source": [
        "try:\n",
        "  books = books.drop(['Unnamed: 5'], axis = 1)\n",
        "  books = books.drop(['Unnamed: 6'], axis = 1)\n",
        "except:\n",
        "  pass"
      ]
    },
    {
      "cell_type": "code",
      "execution_count": 5,
      "metadata": {
        "colab": {
          "base_uri": "https://localhost:8080/",
          "height": 206
        },
        "id": "HdV1v0nZPbGy",
        "outputId": "1659bbe0-cce4-4281-88f1-c2b8fecca375"
      },
      "outputs": [
        {
          "data": {
            "text/html": [
              "<div>\n",
              "<style scoped>\n",
              "    .dataframe tbody tr th:only-of-type {\n",
              "        vertical-align: middle;\n",
              "    }\n",
              "\n",
              "    .dataframe tbody tr th {\n",
              "        vertical-align: top;\n",
              "    }\n",
              "\n",
              "    .dataframe thead th {\n",
              "        text-align: right;\n",
              "    }\n",
              "</style>\n",
              "<table border=\"1\" class=\"dataframe\">\n",
              "  <thead>\n",
              "    <tr style=\"text-align: right;\">\n",
              "      <th></th>\n",
              "      <th>book_id</th>\n",
              "      <th>title</th>\n",
              "      <th>author</th>\n",
              "      <th>edition</th>\n",
              "      <th>pub_year</th>\n",
              "    </tr>\n",
              "  </thead>\n",
              "  <tbody>\n",
              "    <tr>\n",
              "      <th>0</th>\n",
              "      <td>1</td>\n",
              "      <td>Software Engineering - A Practitioners Approach</td>\n",
              "      <td>Roger S. Pressman</td>\n",
              "      <td>7.0</td>\n",
              "      <td>NaN</td>\n",
              "    </tr>\n",
              "    <tr>\n",
              "      <th>1</th>\n",
              "      <td>2</td>\n",
              "      <td>Software Project Management</td>\n",
              "      <td>Bob Hughes, Mike Cotterell, Rajib Mall</td>\n",
              "      <td>6.0</td>\n",
              "      <td>2018.0</td>\n",
              "    </tr>\n",
              "    <tr>\n",
              "      <th>2</th>\n",
              "      <td>3</td>\n",
              "      <td>An Integrated Approach to Software Engineering</td>\n",
              "      <td>Pankaj Jalote</td>\n",
              "      <td>NaN</td>\n",
              "      <td>NaN</td>\n",
              "    </tr>\n",
              "    <tr>\n",
              "      <th>3</th>\n",
              "      <td>4</td>\n",
              "      <td>Software Engineering: Principles and Practice</td>\n",
              "      <td>Hans van Vliet</td>\n",
              "      <td>3.0</td>\n",
              "      <td>2010.0</td>\n",
              "    </tr>\n",
              "    <tr>\n",
              "      <th>4</th>\n",
              "      <td>5</td>\n",
              "      <td>Data Communications and Networking</td>\n",
              "      <td>Behrouz A. Forouzan</td>\n",
              "      <td>5.0</td>\n",
              "      <td>2013.0</td>\n",
              "    </tr>\n",
              "  </tbody>\n",
              "</table>\n",
              "</div>"
            ],
            "text/plain": [
              "   book_id                                            title  \\\n",
              "0        1  Software Engineering - A Practitioners Approach   \n",
              "1        2                      Software Project Management   \n",
              "2        3   An Integrated Approach to Software Engineering   \n",
              "3        4    Software Engineering: Principles and Practice   \n",
              "4        5               Data Communications and Networking   \n",
              "\n",
              "                                   author  edition  pub_year  \n",
              "0                       Roger S. Pressman      7.0       NaN  \n",
              "1  Bob Hughes, Mike Cotterell, Rajib Mall      6.0    2018.0  \n",
              "2                           Pankaj Jalote      NaN       NaN  \n",
              "3                          Hans van Vliet      3.0    2010.0  \n",
              "4                     Behrouz A. Forouzan      5.0    2013.0  "
            ]
          },
          "execution_count": 5,
          "metadata": {},
          "output_type": "execute_result"
        }
      ],
      "source": [
        "books.head()"
      ]
    },
    {
      "cell_type": "code",
      "execution_count": 6,
      "metadata": {
        "colab": {
          "base_uri": "https://localhost:8080/"
        },
        "id": "FXaLSog_ORMN",
        "outputId": "4d5ca873-3201-499b-9ad1-feb3a55589a9"
      },
      "outputs": [
        {
          "name": "stdout",
          "output_type": "stream",
          "text": [
            "     book_id                         title  \\\n",
            "125      126  Java: The Complete Reference   \n",
            "126      127                     Java EE 5   \n",
            "\n",
            "                                                author  edition  pub_year  \n",
            "125                  Herbert Schildt, Dr. Danny Coward     13.0       NaN  \n",
            "126  Ivan Bayross, Vaishali Shah, Sharanam Shah, Cy...      2.0       NaN  \n"
          ]
        }
      ],
      "source": [
        "#preprocess and combine features\n",
        "def preprocess_text(text):\n",
        "    stemmer = PorterStemmer()\n",
        "    stop_words = set(stopwords.words('english'))\n",
        "    text = text.lower()\n",
        "    text = ''.join([char for char in text if char not in string.punctuation])  #remove punctuation\n",
        "    text = ' '.join([stemmer.stem(word) for word in text.split() if word not in stop_words])  #stem and remove stopwords\n",
        "    return text\n",
        "\n",
        "#function for content-based recommending\n",
        "def recommend_books_by_syllabus(course_keywords, books_df, tfidf_matrix):\n",
        "    course_vec = tfidf.transform([course_keywords])\n",
        "    similarities = cosine_similarity(course_vec, tfidf_matrix).flatten()\n",
        "    indices = similarities.argsort()\n",
        "    recommended_books = books_df.iloc[indices]\n",
        "    return filter_recommendations(recommended_books, course_keywords)\n",
        "\n",
        "#filter recommendations for accuracy\n",
        "def filter_recommendations(recommended_books, course_keywords):\n",
        "    return recommended_books[recommended_books['title'].str.contains(course_keywords, case=False)]\n",
        "\n",
        "books['processed_title'] = books['title'].apply(preprocess_text)\n",
        "tfidf = TfidfVectorizer(stop_words='english')\n",
        "tfidf_matrix = tfidf.fit_transform(books['processed_title'])\n",
        "\n",
        "#example\n",
        "course_keywords = \"java\"\n",
        "recommended_books = recommend_books_by_syllabus(course_keywords, books, tfidf_matrix)\n",
        "recommended_books = recommended_books.drop(['processed_title'], axis = 1)\n",
        "print(recommended_books)\n"
      ]
    },
    {
      "cell_type": "markdown",
      "metadata": {
        "id": "4nBRUY_CTAsF"
      },
      "source": [
        "# Sample Data for Collaborative Recommendation System"
      ]
    },
    {
      "cell_type": "code",
      "execution_count": 7,
      "metadata": {
        "id": "e7_p-KjhyH3Y"
      },
      "outputs": [],
      "source": [
        "import pandas as pd\n",
        "\n",
        "books_df = pd.read_csv('data/books.csv')\n",
        "users_df = pd.read_csv('data/sample user data.csv')  #sample user data"
      ]
    },
    {
      "cell_type": "code",
      "execution_count": 8,
      "metadata": {
        "colab": {
          "base_uri": "https://localhost:8080/"
        },
        "id": "OnOdf7mYlDtx",
        "outputId": "2fe9a167-1473-47da-b5f5-9cc8597f352c"
      },
      "outputs": [
        {
          "name": "stdout",
          "output_type": "stream",
          "text": [
            "   user_id  semester branch  book_id  \\\n",
            "0        1         5    AD         2   \n",
            "1        1         5    AD        43   \n",
            "2        1         5    AD        39   \n",
            "3        1         5    AD        28   \n",
            "4        2         4    AD        64   \n",
            "\n",
            "                                               title  \\\n",
            "0                        Software Project Management   \n",
            "1                            Artificial Intelligence   \n",
            "2  Introduction to the Design and Analysis of Alg...   \n",
            "3  Python Data Science Handbook: Essential Tools ...   \n",
            "4                   Mathematics for Machine learning   \n",
            "\n",
            "                                              author  edition  pub_year  \n",
            "0             Bob Hughes, Mike Cotterell, Rajib Mall      6.0    2018.0  \n",
            "1                 Stuart J. Russell and Peter Norvig      3.0    2015.0  \n",
            "2                                      Anany Levitin      3.0    2017.0  \n",
            "3                                    Jake VanderPlas      2.0    2022.0  \n",
            "4  Marc Peter Deisennroth, A. Aldo Faisal, Cheng ...      NaN    2020.0  \n"
          ]
        }
      ],
      "source": [
        "merged_df = users_df.merge(books_df, on='book_id', how='left')\n",
        "print(merged_df.head())"
      ]
    },
    {
      "cell_type": "code",
      "execution_count": 9,
      "metadata": {
        "colab": {
          "base_uri": "https://localhost:8080/"
        },
        "id": "jEAEZwi_lJKu",
        "outputId": "49984b2a-ecd5-4bd4-ba06-2c18927f008b"
      },
      "outputs": [
        {
          "name": "stdout",
          "output_type": "stream",
          "text": [
            "book_id  1    2    9    10   15   16   20   28   39   42   ...  80   84   99   \\\n",
            "user_id                                                    ...                  \n",
            "1          0    1    0    0    0    0    0    1    1    0  ...    0    0    0   \n",
            "2          0    0    0    0    1    1    0    0    0    0  ...    0    0    0   \n",
            "3          0    0    0    0    0    0    0    0    0    0  ...    0    0    0   \n",
            "4          1    0    0    0    0    0    0    0    0    0  ...    1    1    0   \n",
            "5          0    0    0    0    0    0    0    0    1    0  ...    0    0    0   \n",
            "\n",
            "book_id  103  106  112  122  124  125  127  \n",
            "user_id                                     \n",
            "1          0    0    0    0    0    0    0  \n",
            "2          0    0    0    0    0    0    0  \n",
            "3          0    1    0    0    0    0    1  \n",
            "4          0    0    0    0    0    0    0  \n",
            "5          1    0    0    0    0    1    0  \n",
            "\n",
            "[5 rows x 24 columns]\n"
          ]
        }
      ],
      "source": [
        "user_book_matrix = users_df.pivot_table(index='user_id', columns='book_id', aggfunc='size', fill_value=0) #1 signifies book borrowed by user; 0 book not borrowed\n",
        "print(user_book_matrix.head())"
      ]
    },
    {
      "cell_type": "code",
      "execution_count": 10,
      "metadata": {
        "colab": {
          "base_uri": "https://localhost:8080/"
        },
        "id": "Xr5aBSACnDV0",
        "outputId": "a8845e36-0af5-4920-f5bf-85b8f7e85fbf"
      },
      "outputs": [
        {
          "name": "stdout",
          "output_type": "stream",
          "text": [
            "book_id  1         2         9    10   15   16        20        28   39   42   \\\n",
            "book_id                                                                         \n",
            "1        1.0  0.000000  0.000000  0.0  0.0  0.0  0.000000  0.000000  0.0  0.0   \n",
            "2        0.0  1.000000  0.707107  0.0  0.0  0.0  0.707107  1.000000  0.5  0.0   \n",
            "9        0.0  0.707107  1.000000  0.0  0.0  0.0  1.000000  0.707107  0.0  0.0   \n",
            "10       0.0  0.000000  0.000000  1.0  0.0  0.0  0.000000  0.000000  0.0  0.0   \n",
            "15       0.0  0.000000  0.000000  0.0  1.0  1.0  0.000000  0.000000  0.0  0.0   \n",
            "\n",
            "book_id  ...  80   84   99   103  106  112  122  124  125  127  \n",
            "book_id  ...                                                    \n",
            "1        ...  1.0  1.0  0.0  0.0  0.0  0.0  0.0  0.0  0.0  0.0  \n",
            "2        ...  0.0  0.0  0.0  0.0  0.0  0.0  0.0  0.0  0.0  0.0  \n",
            "9        ...  0.0  0.0  0.0  0.0  0.0  0.0  0.0  0.0  0.0  0.0  \n",
            "10       ...  0.0  0.0  0.0  0.0  0.0  1.0  1.0  1.0  0.0  0.0  \n",
            "15       ...  0.0  0.0  0.0  0.0  0.0  0.0  0.0  0.0  0.0  0.0  \n",
            "\n",
            "[5 rows x 24 columns]\n"
          ]
        }
      ],
      "source": [
        "from sklearn.metrics.pairwise import cosine_similarity\n",
        "\n",
        "#cosine similarity for books\n",
        "book_similarity = cosine_similarity(user_book_matrix.T)\n",
        "book_similarity_df = pd.DataFrame(book_similarity, index=user_book_matrix.columns, columns=user_book_matrix.columns)\n",
        "\n",
        "print(book_similarity_df.head())"
      ]
    },
    {
      "cell_type": "code",
      "execution_count": 11,
      "metadata": {
        "colab": {
          "base_uri": "https://localhost:8080/"
        },
        "id": "3C3p-XxrnvdP",
        "outputId": "9bdce0df-f983-47e5-9bce-64fecb1f9d20"
      },
      "outputs": [
        {
          "name": "stdout",
          "output_type": "stream",
          "text": [
            "     book_id                                      title  \\\n",
            "52        53  Discrete Mathematics and its Applications   \n",
            "55        56     Discrete Mathematics with Applications   \n",
            "133      134             Programming the World Wide Web   \n",
            "48        49                Database management systems   \n",
            "46        47                    Artificial Intelligence   \n",
            "\n",
            "                    author  edition  pub_year  \n",
            "52        Kenneth H. Rosen      6.0    2007.0  \n",
            "55            Thomas Koshy      NaN    2005.0  \n",
            "133       Robert W Sebesta      8.0    2020.0  \n",
            "48    Ramakrishnan, Gehrke      3.0    2014.0  \n",
            "46           Saroj Kaushik      NaN    2014.0  \n"
          ]
        }
      ],
      "source": [
        "import numpy as np\n",
        "\n",
        "def hybrid_recommend_books(book_title, books_df, tfidf_matrix, tfidf, book_similarity_df, top_n = 5, threshold = 0.2):\n",
        "    books_copy = books_df.copy()\n",
        "    #normalise input and dataset\n",
        "    books_copy['title'] = books_copy['title'].str.strip().str.lower()\n",
        "    book_title = book_title.strip().lower()\n",
        "    #check is title is in books_copy\n",
        "    if book_title not in books_copy['title'].values:\n",
        "        print(f\"Book '{book_title}' not found in dataset.\")\n",
        "        return pd.DataFrame()\n",
        "    #get index of the book\n",
        "    book_idx = books_copy[books_copy['title'] == book_title].index[0]\n",
        "\n",
        "    #content-based similarity\n",
        "    content_similarities = cosine_similarity(tfidf_matrix[book_idx], tfidf_matrix).flatten()\n",
        "\n",
        "    #collaborative similarity\n",
        "    collaborative_similarities = np.zeros(len(books_df)) #default to zeros for books with no borrowing data\n",
        "    book_id = books_copy.loc[book_idx, 'book_id']\n",
        "    if book_id in book_similarity_df.index:\n",
        "        collaborative_similarities = book_similarity_df.loc[book_id].reindex(books_copy['book_id'], fill_value=0).values\n",
        "\n",
        "    #combine similarities with equal weights\n",
        "    hybrid_similarities = (0.8 * content_similarities + 0.2 * collaborative_similarities) / 2\n",
        "\n",
        "    #filter low similarity results\n",
        "    hybrid_similarities[hybrid_similarities < threshold] = 0\n",
        "\n",
        "    #top n recommendations\n",
        "    top_indices = np.argsort(hybrid_similarities)[-top_n - 1:][::-1]  #exclude the input book\n",
        "    top_indices = [idx for idx in top_indices if idx != book_idx][:top_n]\n",
        "\n",
        "    #metadata for recommended books\n",
        "    recommendations = books_df.iloc[top_indices].copy()\n",
        "    recommendations['hybrid_score'] = hybrid_similarities[top_indices]\n",
        "\n",
        "    req_data = ['book_id', 'title', 'author', 'edition', 'pub_year']\n",
        "    return recommendations[req_data]\n",
        "\n",
        "#example\n",
        "book_title = \"Discrete Mathematics – A Concept-based approach\"\n",
        "recommended_books = hybrid_recommend_books(book_title, books_df, tfidf_matrix, tfidf, book_similarity_df)\n",
        "if not recommended_books.empty:\n",
        "    print(recommended_books)\n",
        "else:\n",
        "    print(\"No recommendations found.\")"
      ]
    },
    {
      "cell_type": "code",
      "execution_count": null,
      "metadata": {
        "id": "g_2tRsWWn7PM"
      },
      "outputs": [],
      "source": []
    },
    {
      "cell_type": "code",
      "execution_count": null,
      "metadata": {
        "id": "17rIzXcuq32u"
      },
      "outputs": [],
      "source": []
    }
  ],
  "metadata": {
    "colab": {
      "authorship_tag": "ABX9TyO5EIxG4Kr2qm+4VKJ4h5x6",
      "include_colab_link": true,
      "provenance": []
    },
    "kernelspec": {
      "display_name": "Python 3",
      "language": "python",
      "name": "python3"
    },
    "language_info": {
      "codemirror_mode": {
        "name": "ipython",
        "version": 3
      },
      "file_extension": ".py",
      "mimetype": "text/x-python",
      "name": "python",
      "nbconvert_exporter": "python",
      "pygments_lexer": "ipython3",
      "version": "3.11.9"
    }
  },
  "nbformat": 4,
  "nbformat_minor": 0
}
