{
  "cells": [
    {
      "cell_type": "markdown",
      "metadata": {
        "colab_type": "text",
        "id": "view-in-github"
      },
      "source": [
        "<a href=\"https://colab.research.google.com/github/TamannaAhmad/library-recommendations/blob/main/hybrid_recommendations_system.ipynb\" target=\"_parent\"><img src=\"https://colab.research.google.com/assets/colab-badge.svg\" alt=\"Open In Colab\"/></a>"
      ]
    },
    {
      "cell_type": "code",
      "execution_count": 1,
      "metadata": {
        "colab": {
          "base_uri": "https://localhost:8080/"
        },
        "id": "dCSy0ixFRyHl",
        "outputId": "cadaf834-feef-4dfd-dc03-cac53894a406"
      },
      "outputs": [
        {
          "name": "stderr",
          "output_type": "stream",
          "text": [
            "[nltk_data] Downloading package stopwords to\n",
            "[nltk_data]     C:\\Users\\Admin\\AppData\\Roaming\\nltk_data...\n",
            "[nltk_data]   Package stopwords is already up-to-date!\n"
          ]
        }
      ],
      "source": [
        "import string\n",
        "import pandas as pd\n",
        "import nltk\n",
        "nltk.download('stopwords')       #stopwords\n",
        "from sklearn.feature_extraction.text import TfidfVectorizer\n",
        "from sklearn.metrics.pairwise import cosine_similarity\n",
        "from nltk.stem import PorterStemmer\n",
        "from nltk.corpus import stopwords\n",
        "from rapidfuzz import process, fuzz"
      ]
    },
    {
      "cell_type": "code",
      "execution_count": 3,
      "metadata": {},
      "outputs": [
        {
          "name": "stdout",
          "output_type": "stream",
          "text": [
            "   book_id                                            title  \\\n",
            "0        1  Software Engineering - A Practitioners Approach   \n",
            "1        2                      Software Project Management   \n",
            "2        3   An Integrated Approach to Software Engineering   \n",
            "3        4    Software Engineering: Principles and Practice   \n",
            "4        5               Data Communications and Networking   \n",
            "\n",
            "                                   author  edition  pub_year  \n",
            "0                       Roger S. Pressman      7.0       NaN  \n",
            "1  Bob Hughes, Mike Cotterell, Rajib Mall      6.0    2018.0  \n",
            "2                           Pankaj Jalote      NaN       NaN  \n",
            "3                          Hans van Vliet      3.0    2010.0  \n",
            "4                     Behrouz A. Forouzan      5.0    2013.0  \n",
            "  course_code branch  semester\n",
            "0      BAD402     AD         4\n",
            "1     BAD515B     AD         5\n",
            "2     BAD515C     AD         5\n",
            "3     BAI405B     AD         4\n",
            "4     BAI405D     AD         4\n",
            "  course_code  book_id\n",
            "0      BAD402       43\n",
            "1      BAD402       44\n",
            "2      BAD402       45\n",
            "3      BAD402       46\n",
            "4      BAD402       47\n",
            "  course_code              course_name  Unnamed: 2\n",
            "0      BAD402  Artificial Intelligence         NaN\n",
            "1     BAD515B         Data Warehousing         NaN\n",
            "2     BAD515C          Cloud Computing         NaN\n",
            "3     BAI405B            Metric Spaces         NaN\n",
            "4     BAI405D  Algorithmic Game Theory         NaN\n",
            "   user_id  semester branch  book_id\n",
            "0        1         5    AD         2\n",
            "1        1         5    AD        43\n",
            "2        1         5    AD        39\n",
            "3        1         5    AD        28\n",
            "4        2         4    AD        64\n"
          ]
        }
      ],
      "source": [
        "#load datasets\n",
        "books = pd.read_csv(\"../data/books.csv\")\n",
        "branch_course = pd.read_csv(\"../data/branch-course.csv\")\n",
        "courses_books = pd.read_csv(\"../data/courses-books.csv\")\n",
        "courses = pd.read_csv(\"../data/courses.csv\")\n",
        "user_data = pd.read_csv(\"../data/sample user data.csv\")\n",
        "\n",
        "print(books.head())\n",
        "print(branch_course.head())\n",
        "print(courses_books.head())\n",
        "print(courses.head())\n",
        "print(user_data.head())"
      ]
    },
    {
      "cell_type": "code",
      "execution_count": 4,
      "metadata": {
        "colab": {
          "base_uri": "https://localhost:8080/"
        },
        "id": "FXaLSog_ORMN",
        "outputId": "4d5ca873-3201-499b-9ad1-feb3a55589a9"
      },
      "outputs": [],
      "source": [
        "#preprocess and combine features\n",
        "def preprocess_text(text):\n",
        "    stemmer = PorterStemmer()\n",
        "    stop_words = set(stopwords.words('english'))\n",
        "    text = text.lower()\n",
        "    text = ''.join([char for char in text if char not in string.punctuation])  #remove punctuation\n",
        "    text = ' '.join([stemmer.stem(word) for word in text.split() if word not in stop_words])  #stem and remove stopwords\n",
        "    return text\n",
        "\n",
        "books['processed_title'] = books['title'].apply(preprocess_text)\n",
        "tfidf = TfidfVectorizer(stop_words='english')\n",
        "tfidf_matrix = tfidf.fit_transform(books['processed_title'])"
      ]
    },
    {
      "cell_type": "code",
      "execution_count": 5,
      "metadata": {},
      "outputs": [],
      "source": [
        "#approximate title matching\n",
        "\n",
        "def fuzzy_match(book_title, books_df, user_choice, top_n):\n",
        "    choices = books_df['title'].tolist()\n",
        "    best_match = process.extractOne(book_title, choices, scorer=fuzz.partial_ratio)\n",
        "    matched_title = best_match[0]\n",
        "    if (user_choice == \"title\"):\n",
        "        return recommend_books_by_title(matched_title, books_df, tfidf_matrix, top_n)\n",
        "\n",
        "    if best_match and best_match[1] >= 60: #confidence threshold = 60\n",
        "        return best_match[0]  # Return the matched title\n",
        "    else:\n",
        "        print(\"No matching book title found.\")\n",
        "        return None"
      ]
    },
    {
      "cell_type": "code",
      "execution_count": 6,
      "metadata": {},
      "outputs": [],
      "source": [
        "#function for title-based recommendations\n",
        "\n",
        "def recommend_books_by_title(book_title, books_df, tfidf_matrix, top_n=5):\n",
        "    query_vec = tfidf.transform([book_title])\n",
        "    similarities = cosine_similarity(query_vec, tfidf_matrix).flatten()\n",
        "    top_indices = similarities.argsort()[-top_n:][::-1]\n",
        "    return books_df.iloc[top_indices][['book_id', 'title', 'author', 'edition', 'pub_year']]"
      ]
    },
    {
      "cell_type": "code",
      "execution_count": 7,
      "metadata": {},
      "outputs": [],
      "source": [
        "#function for branch & semester based recommendations\n",
        "\n",
        "def recommend_books_by_branch_semester(branch, semester, branch_course_df, courses_books_df, books_df):\n",
        "    relevant_courses = branch_course_df[\n",
        "        (branch_course_df['branch'] == branch) & \n",
        "        (branch_course_df['semester'] == semester)\n",
        "    ]['course_code']\n",
        "\n",
        "    relevant_books = courses_books_df[\n",
        "        courses_books_df['course_code'].isin(relevant_courses)\n",
        "    ]['book_id']\n",
        "\n",
        "    filtered_books = books_df[\n",
        "        books_df['book_id'].isin(relevant_books)\n",
        "    ][['book_id', 'title', 'author', 'edition', 'pub_year']]\n",
        "\n",
        "    return filtered_books"
      ]
    },
    {
      "cell_type": "code",
      "execution_count": 8,
      "metadata": {},
      "outputs": [],
      "source": [
        "#hybrid recommendation system (combining title-based and student info-based recommendations)\n",
        "\n",
        "def hybrid_recommend_books(user_choice, book_title, branch, semester, books_df, branch_course_df, courses_books_df, tfidf_matrix, tfidf, top_n=5):\n",
        "    #getting book title\n",
        "    matched_title = fuzzy_match(book_title, books_df, user_choice, top_n)\n",
        "    if not matched_title:\n",
        "        return pd.DataFrame()\n",
        "    \n",
        "    #data of matched book\n",
        "    book_idx = books_df[books_df['title'] == matched_title].index\n",
        "    if book_idx.empty:\n",
        "        print(\"Matched title not found in the dataset.\")\n",
        "        return pd.DataFrame()\n",
        "    book_idx = book_idx[0]\n",
        "\n",
        "    #title-based filtering\n",
        "    title_similarities = cosine_similarity(tfidf_matrix[book_idx], tfidf_matrix).flatten()\n",
        "\n",
        "    #student info-based filtering\n",
        "    relevant_courses = branch_course_df[(branch_course_df['branch'] == branch) & (branch_course_df['semester'] == semester)]['course_code']\n",
        "    relevant_books = courses_books_df[courses_books_df['course_code'].isin(relevant_courses)]['book_id']\n",
        "\n",
        "    #combining results\n",
        "    books_df['title_similarity'] = title_similarities\n",
        "    books_df['is_relevant'] = books_df['book_id'].isin(relevant_books).astype(int)\n",
        "\n",
        "    #weighted combination \n",
        "    books_df['hybrid_score'] = (0.75 * books_df['title_similarity'] + 0.25 * books_df['is_relevant']) / 2\n",
        "    top_indices = books_df.sort_values(by='hybrid_score', ascending=False).head(top_n)\n",
        "\n",
        "    return top_indices[['book_id', 'title', 'author', 'edition', 'pub_year']]"
      ]
    },
    {
      "cell_type": "code",
      "execution_count": 9,
      "metadata": {},
      "outputs": [],
      "source": [
        "#function to get user input\n",
        "\n",
        "def recommend_books(user_choice, book_title=None, branch=None, semester=None, books_df=None, branch_course_df=None, \n",
        "                    courses_books_df=None, tfidf_matrix=None, tfidf=None, top_n=5):\n",
        "    if user_choice == \"title\":\n",
        "        return fuzzy_match(book_title, books_df, user_choice, top_n)\n",
        "    elif user_choice == \"branch_semester\":\n",
        "        return recommend_books_by_branch_semester(branch, semester, branch_course_df, courses_books_df, books_df)\n",
        "    elif user_choice == \"hybrid\":   \n",
        "        return hybrid_recommend_books(user_choice, book_title, branch, semester, books_df, branch_course_df, courses_books_df, tfidf_matrix, tfidf, top_n)\n",
        "    else:\n",
        "        raise ValueError(\"Invalid choice. Please select 'title', 'branch_semester', or 'hybrid'.\")"
      ]
    },
    {
      "cell_type": "code",
      "execution_count": 10,
      "metadata": {},
      "outputs": [],
      "source": [
        "def get_sem(usn):\n",
        "    if \"22\" in usn:\n",
        "        return 5\n",
        "    elif \"23\" in usn:\n",
        "        return 4\n",
        "    else:\n",
        "        print(\"Invalid USN\")\n",
        "\n",
        "def get_branch(usn):\n",
        "    if \"ad\" in usn:\n",
        "        return \"AD\"\n",
        "    elif \"cs\" in usn:\n",
        "        return \"CSE\"\n",
        "    elif \"cb\" in usn:\n",
        "        return \"CB\"\n",
        "    else:\n",
        "        print(\"Invalid USN\")"
      ]
    },
    {
      "cell_type": "code",
      "execution_count": 11,
      "metadata": {},
      "outputs": [
        {
          "name": "stdout",
          "output_type": "stream",
          "text": [
            "What type of recommendations would you like?\n",
            "1. From title/topic\t 2. From USN\t 3. Both\n",
            "     book_id                                              title  \\\n",
            "122      123                                 Programming Python   \n",
            "27        28  Python Data Science Handbook: Essential Tools ...   \n",
            "73        74                                  Programming Scala   \n",
            "29        30                Electronic Waste Management Science   \n",
            "1          2                        Software Project Management   \n",
            "\n",
            "                                     author  edition  pub_year  \n",
            "122                               Mark Lutz      4.0    2012.0  \n",
            "27                          Jake VanderPlas      2.0    2022.0  \n",
            "73                           O'Reilly Media      3.0       NaN  \n",
            "29                Hester R.E., Harrison R.M      NaN    2009.0  \n",
            "1    Bob Hughes, Mike Cotterell, Rajib Mall      6.0    2018.0  \n"
          ]
        }
      ],
      "source": [
        "# Example inputs\n",
        "print(\"What type of recommendations would you like?\")\n",
        "print(\"1. From title/topic\\t 2. From USN\\t 3. Both\")\n",
        "recs = int(input(\"Enter 1/2/3: \"))\n",
        "if recs == 1:\n",
        "    user_choice = \"title\"\n",
        "    book_title = input(\"Enter the title or topic: \").lower()\n",
        "    branch = None\n",
        "    semester = None\n",
        "elif recs == 2:\n",
        "    user_choice = \"branch_semester\"\n",
        "    usn = input(\"Enter your USN: \").lower()\n",
        "    branch = get_branch(usn)\n",
        "    semester = get_sem(usn)\n",
        "    book_title = None\n",
        "    print(f'Branch: {branch} Semester: {semester}')\n",
        "elif recs == 3:\n",
        "    user_choice = \"hybrid\"\n",
        "    usn = input(\"Enter your USN: \").lower()\n",
        "    branch = get_branch(usn)\n",
        "    semester = get_sem(usn)\n",
        "    book_title = input(\"Enter the title or topic: \").lower()\n",
        "\n",
        "#recommendations based on user choice\n",
        "recommended_books = recommend_books(user_choice, book_title=book_title, branch=branch, semester=semester,\n",
        "                                     books_df=books, branch_course_df=branch_course, \n",
        "                                     courses_books_df=courses_books, tfidf_matrix=tfidf_matrix, tfidf=tfidf)\n",
        "print(recommended_books)"
      ]
    },
    {
      "cell_type": "code",
      "execution_count": null,
      "metadata": {},
      "outputs": [],
      "source": []
    }
  ],
  "metadata": {
    "colab": {
      "authorship_tag": "ABX9TyO5EIxG4Kr2qm+4VKJ4h5x6",
      "include_colab_link": true,
      "provenance": []
    },
    "kernelspec": {
      "display_name": "Python 3",
      "language": "python",
      "name": "python3"
    },
    "language_info": {
      "codemirror_mode": {
        "name": "ipython",
        "version": 3
      },
      "file_extension": ".py",
      "mimetype": "text/x-python",
      "name": "python",
      "nbconvert_exporter": "python",
      "pygments_lexer": "ipython3",
      "version": "3.11.9"
    }
  },
  "nbformat": 4,
  "nbformat_minor": 0
}
